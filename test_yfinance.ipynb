{
 "cells": [
  {
   "cell_type": "markdown",
   "id": "a90fafe1",
   "metadata": {},
   "source": [
    "# Python ETL data pipeline\n",
    "\n",
    "This is a test and my first try at using Python in a raspberrypi to create a stock ETL pipeline. \n",
    "\n",
    "I will be using a crontab and just the general settings of yfinance to create a pipeline, afterwards i will extract and transform it and the feed it to a postgres to be consumed by a shiny app which will display basic stock information. \n",
    "\n",
    "- DAOA\n",
    "23/07/2025"
   ]
  },
  {
   "cell_type": "code",
   "execution_count": 1,
   "id": "2e6a4448",
   "metadata": {},
   "outputs": [],
   "source": [
    "import pandas as pd\n",
    "import yfinance as yf\n",
    "import seaborn as sns"
   ]
  },
  {
   "cell_type": "code",
   "execution_count": 2,
   "id": "f66d5da8",
   "metadata": {},
   "outputs": [],
   "source": [
    "apple_ticker = yf.Ticker('AAPL')"
   ]
  },
  {
   "cell_type": "code",
   "execution_count": 3,
   "id": "5b1937d5",
   "metadata": {},
   "outputs": [],
   "source": [
    "apple_story = apple_ticker.history(period = 'max')"
   ]
  },
  {
   "cell_type": "code",
   "execution_count": 4,
   "id": "ce57bc24",
   "metadata": {},
   "outputs": [
    {
     "data": {
      "text/html": [
       "<div>\n",
       "<style scoped>\n",
       "    .dataframe tbody tr th:only-of-type {\n",
       "        vertical-align: middle;\n",
       "    }\n",
       "\n",
       "    .dataframe tbody tr th {\n",
       "        vertical-align: top;\n",
       "    }\n",
       "\n",
       "    .dataframe thead th {\n",
       "        text-align: right;\n",
       "    }\n",
       "</style>\n",
       "<table border=\"1\" class=\"dataframe\">\n",
       "  <thead>\n",
       "    <tr style=\"text-align: right;\">\n",
       "      <th></th>\n",
       "      <th>Open</th>\n",
       "      <th>High</th>\n",
       "      <th>Low</th>\n",
       "      <th>Close</th>\n",
       "      <th>Volume</th>\n",
       "      <th>Dividends</th>\n",
       "      <th>Stock Splits</th>\n",
       "    </tr>\n",
       "    <tr>\n",
       "      <th>Date</th>\n",
       "      <th></th>\n",
       "      <th></th>\n",
       "      <th></th>\n",
       "      <th></th>\n",
       "      <th></th>\n",
       "      <th></th>\n",
       "      <th></th>\n",
       "    </tr>\n",
       "  </thead>\n",
       "  <tbody>\n",
       "    <tr>\n",
       "      <th>1980-12-12 00:00:00-05:00</th>\n",
       "      <td>0.098597</td>\n",
       "      <td>0.099025</td>\n",
       "      <td>0.098597</td>\n",
       "      <td>0.098597</td>\n",
       "      <td>469033600</td>\n",
       "      <td>0.0</td>\n",
       "      <td>0.0</td>\n",
       "    </tr>\n",
       "    <tr>\n",
       "      <th>1980-12-15 00:00:00-05:00</th>\n",
       "      <td>0.093881</td>\n",
       "      <td>0.093881</td>\n",
       "      <td>0.093453</td>\n",
       "      <td>0.093453</td>\n",
       "      <td>175884800</td>\n",
       "      <td>0.0</td>\n",
       "      <td>0.0</td>\n",
       "    </tr>\n",
       "    <tr>\n",
       "      <th>1980-12-16 00:00:00-05:00</th>\n",
       "      <td>0.087022</td>\n",
       "      <td>0.087022</td>\n",
       "      <td>0.086594</td>\n",
       "      <td>0.086594</td>\n",
       "      <td>105728000</td>\n",
       "      <td>0.0</td>\n",
       "      <td>0.0</td>\n",
       "    </tr>\n",
       "    <tr>\n",
       "      <th>1980-12-17 00:00:00-05:00</th>\n",
       "      <td>0.088737</td>\n",
       "      <td>0.089165</td>\n",
       "      <td>0.088737</td>\n",
       "      <td>0.088737</td>\n",
       "      <td>86441600</td>\n",
       "      <td>0.0</td>\n",
       "      <td>0.0</td>\n",
       "    </tr>\n",
       "    <tr>\n",
       "      <th>1980-12-18 00:00:00-05:00</th>\n",
       "      <td>0.091310</td>\n",
       "      <td>0.091738</td>\n",
       "      <td>0.091310</td>\n",
       "      <td>0.091310</td>\n",
       "      <td>73449600</td>\n",
       "      <td>0.0</td>\n",
       "      <td>0.0</td>\n",
       "    </tr>\n",
       "    <tr>\n",
       "      <th>...</th>\n",
       "      <td>...</td>\n",
       "      <td>...</td>\n",
       "      <td>...</td>\n",
       "      <td>...</td>\n",
       "      <td>...</td>\n",
       "      <td>...</td>\n",
       "      <td>...</td>\n",
       "    </tr>\n",
       "    <tr>\n",
       "      <th>2025-07-21 00:00:00-04:00</th>\n",
       "      <td>212.100006</td>\n",
       "      <td>215.779999</td>\n",
       "      <td>211.630005</td>\n",
       "      <td>212.479996</td>\n",
       "      <td>51377400</td>\n",
       "      <td>0.0</td>\n",
       "      <td>0.0</td>\n",
       "    </tr>\n",
       "    <tr>\n",
       "      <th>2025-07-22 00:00:00-04:00</th>\n",
       "      <td>213.139999</td>\n",
       "      <td>214.949997</td>\n",
       "      <td>212.229996</td>\n",
       "      <td>214.399994</td>\n",
       "      <td>46404100</td>\n",
       "      <td>0.0</td>\n",
       "      <td>0.0</td>\n",
       "    </tr>\n",
       "    <tr>\n",
       "      <th>2025-07-23 00:00:00-04:00</th>\n",
       "      <td>215.000000</td>\n",
       "      <td>215.149994</td>\n",
       "      <td>212.410004</td>\n",
       "      <td>214.149994</td>\n",
       "      <td>46989300</td>\n",
       "      <td>0.0</td>\n",
       "      <td>0.0</td>\n",
       "    </tr>\n",
       "    <tr>\n",
       "      <th>2025-07-24 00:00:00-04:00</th>\n",
       "      <td>213.899994</td>\n",
       "      <td>215.690002</td>\n",
       "      <td>213.529999</td>\n",
       "      <td>213.759995</td>\n",
       "      <td>46022600</td>\n",
       "      <td>0.0</td>\n",
       "      <td>0.0</td>\n",
       "    </tr>\n",
       "    <tr>\n",
       "      <th>2025-07-25 00:00:00-04:00</th>\n",
       "      <td>214.699997</td>\n",
       "      <td>215.240005</td>\n",
       "      <td>213.399994</td>\n",
       "      <td>213.880005</td>\n",
       "      <td>40219700</td>\n",
       "      <td>0.0</td>\n",
       "      <td>0.0</td>\n",
       "    </tr>\n",
       "  </tbody>\n",
       "</table>\n",
       "<p>11245 rows × 7 columns</p>\n",
       "</div>"
      ],
      "text/plain": [
       "                                 Open        High         Low       Close  \\\n",
       "Date                                                                        \n",
       "1980-12-12 00:00:00-05:00    0.098597    0.099025    0.098597    0.098597   \n",
       "1980-12-15 00:00:00-05:00    0.093881    0.093881    0.093453    0.093453   \n",
       "1980-12-16 00:00:00-05:00    0.087022    0.087022    0.086594    0.086594   \n",
       "1980-12-17 00:00:00-05:00    0.088737    0.089165    0.088737    0.088737   \n",
       "1980-12-18 00:00:00-05:00    0.091310    0.091738    0.091310    0.091310   \n",
       "...                               ...         ...         ...         ...   \n",
       "2025-07-21 00:00:00-04:00  212.100006  215.779999  211.630005  212.479996   \n",
       "2025-07-22 00:00:00-04:00  213.139999  214.949997  212.229996  214.399994   \n",
       "2025-07-23 00:00:00-04:00  215.000000  215.149994  212.410004  214.149994   \n",
       "2025-07-24 00:00:00-04:00  213.899994  215.690002  213.529999  213.759995   \n",
       "2025-07-25 00:00:00-04:00  214.699997  215.240005  213.399994  213.880005   \n",
       "\n",
       "                              Volume  Dividends  Stock Splits  \n",
       "Date                                                           \n",
       "1980-12-12 00:00:00-05:00  469033600        0.0           0.0  \n",
       "1980-12-15 00:00:00-05:00  175884800        0.0           0.0  \n",
       "1980-12-16 00:00:00-05:00  105728000        0.0           0.0  \n",
       "1980-12-17 00:00:00-05:00   86441600        0.0           0.0  \n",
       "1980-12-18 00:00:00-05:00   73449600        0.0           0.0  \n",
       "...                              ...        ...           ...  \n",
       "2025-07-21 00:00:00-04:00   51377400        0.0           0.0  \n",
       "2025-07-22 00:00:00-04:00   46404100        0.0           0.0  \n",
       "2025-07-23 00:00:00-04:00   46989300        0.0           0.0  \n",
       "2025-07-24 00:00:00-04:00   46022600        0.0           0.0  \n",
       "2025-07-25 00:00:00-04:00   40219700        0.0           0.0  \n",
       "\n",
       "[11245 rows x 7 columns]"
      ]
     },
     "execution_count": 4,
     "metadata": {},
     "output_type": "execute_result"
    }
   ],
   "source": [
    "apple_story"
   ]
  },
  {
   "cell_type": "code",
   "execution_count": 5,
   "id": "2a326b0a",
   "metadata": {},
   "outputs": [
    {
     "data": {
      "text/plain": [
       "<Axes: xlabel='Date', ylabel='Close'>"
      ]
     },
     "execution_count": 5,
     "metadata": {},
     "output_type": "execute_result"
    },
    {
     "data": {
      "image/png": "[encoded data removed]",
      "text/plain": [
       "<Figure size 640x480 with 1 Axes>"
      ]
     },
     "metadata": {},
     "output_type": "display_data"
    }
   ],
   "source": [
    "sns.lineplot(data = apple_story, x = 'Date', y = 'Close')"
   ]
  },
  {
   "cell_type": "code",
   "execution_count": 6,
   "id": "745d15ea",
   "metadata": {},
   "outputs": [
    {
     "data": {
      "text/plain": [
       "pandas.core.frame.DataFrame"
      ]
     },
     "execution_count": 6,
     "metadata": {},
     "output_type": "execute_result"
    }
   ],
   "source": [
    "type(apple_story)"
   ]
  },
  {
   "cell_type": "markdown",
   "id": "459eda9c",
   "metadata": {},
   "source": [
    "## List interesting tickers: \n",
    "\n",
    "From finance.yahoo.com\n",
    "\n",
    "- I guess i care about some commodities like oil, timber, copper, gold and silver. \n",
    "- Tech stocks I care aboute META, Facebook, Tesla, Google, OpenAI, Anthropic, and Microsoft, NVDA. \n",
    "- Mexican's I guess the IPC, and banking generals like Banorte, \n",
    "- SP500 and Some europe simmilar stock. \n",
    "\n",
    "* Plus some composite indexes like panic index like VIX. "
   ]
  },
  {
   "cell_type": "code",
   "execution_count": 18,
   "id": "cbf91cfc",
   "metadata": {},
   "outputs": [],
   "source": [
    "vix_ticker = yf.Ticker(\"^VIX\")"
   ]
  },
  {
   "cell_type": "code",
   "execution_count": 19,
   "id": "b971d388",
   "metadata": {},
   "outputs": [
    {
     "data": {
      "text/html": [
       "<div>\n",
       "<style scoped>\n",
       "    .dataframe tbody tr th:only-of-type {\n",
       "        vertical-align: middle;\n",
       "    }\n",
       "\n",
       "    .dataframe tbody tr th {\n",
       "        vertical-align: top;\n",
       "    }\n",
       "\n",
       "    .dataframe thead th {\n",
       "        text-align: right;\n",
       "    }\n",
       "</style>\n",
       "<table border=\"1\" class=\"dataframe\">\n",
       "  <thead>\n",
       "    <tr style=\"text-align: right;\">\n",
       "      <th></th>\n",
       "      <th>Open</th>\n",
       "      <th>High</th>\n",
       "      <th>Low</th>\n",
       "      <th>Close</th>\n",
       "      <th>Volume</th>\n",
       "      <th>Dividends</th>\n",
       "      <th>Stock Splits</th>\n",
       "    </tr>\n",
       "    <tr>\n",
       "      <th>Date</th>\n",
       "      <th></th>\n",
       "      <th></th>\n",
       "      <th></th>\n",
       "      <th></th>\n",
       "      <th></th>\n",
       "      <th></th>\n",
       "      <th></th>\n",
       "    </tr>\n",
       "  </thead>\n",
       "  <tbody>\n",
       "    <tr>\n",
       "      <th>2024-01-02 00:00:00-06:00</th>\n",
       "      <td>13.22</td>\n",
       "      <td>14.23</td>\n",
       "      <td>13.10</td>\n",
       "      <td>13.20</td>\n",
       "      <td>0</td>\n",
       "      <td>0.0</td>\n",
       "      <td>0.0</td>\n",
       "    </tr>\n",
       "    <tr>\n",
       "      <th>2024-01-03 00:00:00-06:00</th>\n",
       "      <td>13.35</td>\n",
       "      <td>14.22</td>\n",
       "      <td>13.33</td>\n",
       "      <td>14.04</td>\n",
       "      <td>0</td>\n",
       "      <td>0.0</td>\n",
       "      <td>0.0</td>\n",
       "    </tr>\n",
       "    <tr>\n",
       "      <th>2024-01-04 00:00:00-06:00</th>\n",
       "      <td>13.93</td>\n",
       "      <td>14.20</td>\n",
       "      <td>13.64</td>\n",
       "      <td>14.13</td>\n",
       "      <td>0</td>\n",
       "      <td>0.0</td>\n",
       "      <td>0.0</td>\n",
       "    </tr>\n",
       "    <tr>\n",
       "      <th>2024-01-05 00:00:00-06:00</th>\n",
       "      <td>14.24</td>\n",
       "      <td>14.58</td>\n",
       "      <td>13.29</td>\n",
       "      <td>13.35</td>\n",
       "      <td>0</td>\n",
       "      <td>0.0</td>\n",
       "      <td>0.0</td>\n",
       "    </tr>\n",
       "    <tr>\n",
       "      <th>2024-01-08 00:00:00-06:00</th>\n",
       "      <td>14.00</td>\n",
       "      <td>14.18</td>\n",
       "      <td>13.02</td>\n",
       "      <td>13.08</td>\n",
       "      <td>0</td>\n",
       "      <td>0.0</td>\n",
       "      <td>0.0</td>\n",
       "    </tr>\n",
       "  </tbody>\n",
       "</table>\n",
       "</div>"
      ],
      "text/plain": [
       "                            Open   High    Low  Close  Volume  Dividends  \\\n",
       "Date                                                                       \n",
       "2024-01-02 00:00:00-06:00  13.22  14.23  13.10  13.20       0        0.0   \n",
       "2024-01-03 00:00:00-06:00  13.35  14.22  13.33  14.04       0        0.0   \n",
       "2024-01-04 00:00:00-06:00  13.93  14.20  13.64  14.13       0        0.0   \n",
       "2024-01-05 00:00:00-06:00  14.24  14.58  13.29  13.35       0        0.0   \n",
       "2024-01-08 00:00:00-06:00  14.00  14.18  13.02  13.08       0        0.0   \n",
       "\n",
       "                           Stock Splits  \n",
       "Date                                     \n",
       "2024-01-02 00:00:00-06:00           0.0  \n",
       "2024-01-03 00:00:00-06:00           0.0  \n",
       "2024-01-04 00:00:00-06:00           0.0  \n",
       "2024-01-05 00:00:00-06:00           0.0  \n",
       "2024-01-08 00:00:00-06:00           0.0  "
      ]
     },
     "execution_count": 19,
     "metadata": {},
     "output_type": "execute_result"
    }
   ],
   "source": [
    "#vix_his = vix_ticker.history(period = 'max')\n",
    "\n",
    "from datetime import date\n",
    "vix_his = vix_ticker.history(start = '2024-01-01', end = date.today().strftime(\"%Y-%m-%d\"), interval = '1d')\n",
    "vix_his.head()\n",
    "\n"
   ]
  },
  {
   "cell_type": "code",
   "execution_count": 20,
   "id": "b713d7c4",
   "metadata": {},
   "outputs": [
    {
     "data": {
      "text/plain": [
       "<Axes: xlabel='Date', ylabel='Close'>"
      ]
     },
     "execution_count": 20,
     "metadata": {},
     "output_type": "execute_result"
    },
    {
     "data": {
      "image/png": "[encoded data removed]",
      "text/plain": [
       "<Figure size 640x480 with 1 Axes>"
      ]
     },
     "metadata": {},
     "output_type": "display_data"
    }
   ],
   "source": [
    "sns.lineplot(x = vix_his.index,y = vix_his['Close'])"
   ]
  },
  {
   "cell_type": "code",
   "execution_count": 14,
   "id": "cbcf7255",
   "metadata": {},
   "outputs": [
    {
     "data": {
      "text/plain": [
       "Timestamp('2025-07-29 00:00:00')"
      ]
     },
     "execution_count": 14,
     "metadata": {},
     "output_type": "execute_result"
    }
   ],
   "source": [
    "pd.to_datetime('today').normalize()"
   ]
  },
  {
   "cell_type": "code",
   "execution_count": null,
   "id": "6d0e0465",
   "metadata": {},
   "outputs": [],
   "source": []
  }
 ],
 "metadata": {
  "kernelspec": {
   "display_name": "venv",
   "language": "python",
   "name": "python3"
  },
  "language_info": {
   "codemirror_mode": {
    "name": "ipython",
    "version": 3
   },
   "file_extension": ".py",
   "mimetype": "text/x-python",
   "name": "python",
   "nbconvert_exporter": "python",
   "pygments_lexer": "ipython3",
   "version": "3.11.2"
  }
 },
 "nbformat": 4,
 "nbformat_minor": 5
}
